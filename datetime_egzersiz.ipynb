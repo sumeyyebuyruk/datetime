{
 "cells": [
  {
   "cell_type": "code",
   "execution_count": 68,
   "id": "august-pioneer",
   "metadata": {},
   "outputs": [],
   "source": [
    "import datetime"
   ]
  },
  {
   "cell_type": "code",
   "execution_count": 99,
   "id": "white-dodge",
   "metadata": {},
   "outputs": [
    {
     "name": "stdout",
     "output_type": "stream",
     "text": [
      "Lütfen günü giriniz:3\n",
      "Lütfen ayı giriniz:11\n",
      "Lütfen yılı giriniz:2021\n"
     ]
    }
   ],
   "source": [
    "g=int(input(\"Lütfen günü giriniz:\"))\n",
    "a=int(input(\"Lütfen ayı giriniz:\"))\n",
    "y=int(input(\"Lütfen yılı giriniz:\"))"
   ]
  },
  {
   "cell_type": "code",
   "execution_count": 98,
   "id": "fantastic-glenn",
   "metadata": {},
   "outputs": [],
   "source": [
    "gunler={\"Monday\":\"Pazartesi\",\"Tuesday\":\"Salı\",\"Wednesday\":\"Çarşamba\",\"Thursday\":\"Perşembe\",\"Friday\":\"Cuma\",\"Ssturday\":\"Cumartesi\",\"Sunday\":\"Pazar\"}"
   ]
  },
  {
   "cell_type": "code",
   "execution_count": 94,
   "id": "italic-entry",
   "metadata": {},
   "outputs": [],
   "source": [
    "aylar={\"January\":\"Ocak\",\"February\":\"Şubat\",\"March\":\"Mart\",\"April\":\"Nisan\",\"May\":\"Mayıs\",\"June\":\"Haziran\",\"July\":\"Temmuz\",\"August\":\"Ağustos\",\"September\":\"Eylül\",\"October\":\"Ekim\",\"November\":\"Kasım\",\"December\":\"Aralık\"}"
   ]
  },
  {
   "cell_type": "code",
   "execution_count": 100,
   "id": "interpreted-nitrogen",
   "metadata": {},
   "outputs": [],
   "source": [
    "x= datetime.datetime(y,a,g)"
   ]
  },
  {
   "cell_type": "code",
   "execution_count": 101,
   "id": "composed-basket",
   "metadata": {},
   "outputs": [],
   "source": [
    "a=(gunler.get(x.strftime(\"%A\")))"
   ]
  },
  {
   "cell_type": "code",
   "execution_count": 102,
   "id": "introductory-authorization",
   "metadata": {},
   "outputs": [],
   "source": [
    "b=(aylar.get(x.strftime(\"%B\")))"
   ]
  },
  {
   "cell_type": "code",
   "execution_count": 103,
   "id": "handmade-track",
   "metadata": {},
   "outputs": [
    {
     "name": "stdout",
     "output_type": "stream",
     "text": [
      "03 Kasım 2021 Çarşamba\n"
     ]
    }
   ],
   "source": [
    "print(x.strftime(\"%d\"),b,x.strftime(\"%Y\"), a)"
   ]
  },
  {
   "cell_type": "code",
   "execution_count": null,
   "id": "amino-walnut",
   "metadata": {},
   "outputs": [],
   "source": []
  },
  {
   "cell_type": "code",
   "execution_count": null,
   "id": "material-integrity",
   "metadata": {},
   "outputs": [],
   "source": []
  }
 ],
 "metadata": {
  "kernelspec": {
   "display_name": "Python 3",
   "language": "python",
   "name": "python3"
  },
  "language_info": {
   "codemirror_mode": {
    "name": "ipython",
    "version": 3
   },
   "file_extension": ".py",
   "mimetype": "text/x-python",
   "name": "python",
   "nbconvert_exporter": "python",
   "pygments_lexer": "ipython3",
   "version": "3.8.5"
  }
 },
 "nbformat": 4,
 "nbformat_minor": 5
}
