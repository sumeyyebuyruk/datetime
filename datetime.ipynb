{
 "cells": [
  {
   "cell_type": "code",
   "execution_count": 5,
   "id": "promising-performer",
   "metadata": {},
   "outputs": [
    {
     "data": {
      "text/plain": [
       "'Turkish_Turkey.1254'"
      ]
     },
     "execution_count": 5,
     "metadata": {},
     "output_type": "execute_result"
    }
   ],
   "source": [
    "import datetime\n",
    "import locale\n",
    "locale.setlocale(locale.LC_ALL, '')"
   ]
  },
  {
   "cell_type": "code",
   "execution_count": 6,
   "id": "equal-benefit",
   "metadata": {},
   "outputs": [
    {
     "name": "stdout",
     "output_type": "stream",
     "text": [
      "Lütfen günü giriniz:2\n",
      "Lütfen ayı giriniz:12\n",
      "Lütfen yılı giriniz:2021\n"
     ]
    }
   ],
   "source": [
    "g=int(input(\"Lütfen günü giriniz:\"))\n",
    "a=int(input(\"Lütfen ayı giriniz:\"))\n",
    "y=int(input(\"Lütfen yılı giriniz:\"))"
   ]
  },
  {
   "cell_type": "code",
   "execution_count": 7,
   "id": "excited-morrison",
   "metadata": {},
   "outputs": [
    {
     "name": "stdout",
     "output_type": "stream",
     "text": [
      "02 Aralık 2021 , Perşembe\n"
     ]
    }
   ],
   "source": [
    "x= datetime.datetime(y,a,g)\n",
    "print(x.strftime(\"%d %B %Y , %A\"))"
   ]
  },
  {
   "cell_type": "code",
   "execution_count": null,
   "id": "quiet-indonesia",
   "metadata": {},
   "outputs": [],
   "source": []
  },
  {
   "cell_type": "code",
   "execution_count": null,
   "id": "eastern-barcelona",
   "metadata": {},
   "outputs": [],
   "source": []
  }
 ],
 "metadata": {
  "kernelspec": {
   "display_name": "Python 3",
   "language": "python",
   "name": "python3"
  },
  "language_info": {
   "codemirror_mode": {
    "name": "ipython",
    "version": 3
   },
   "file_extension": ".py",
   "mimetype": "text/x-python",
   "name": "python",
   "nbconvert_exporter": "python",
   "pygments_lexer": "ipython3",
   "version": "3.8.5"
  }
 },
 "nbformat": 4,
 "nbformat_minor": 5
}
